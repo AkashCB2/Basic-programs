{
 "cells": [
  {
   "cell_type": "code",
   "execution_count": null,
   "id": "6c0e9b26",
   "metadata": {},
   "outputs": [],
   "source": [
    "#The following is a basic yet a bit fast and less memory intensive prime checker\n",
    "#Here too I use the hit and try method\n",
    "\n",
    "x=int(input(\"Plz input a natural number \",))\n",
    "z=[2] #2 to take care of even numbers\n",
    "y=1\n",
    "\n",
    "for i in range(3,x,2):\n",
    "    if x%2==0.0 or x%i==0.0:\n",
    "        z.append(i)\n",
    "        y=0.0  #y is kind of a dummy indicator variable\n",
    "        print(\"Not prime! It's smallest divisor is \",z[0] if x%2==0.0 else z[-1]) #This gives us the smallest divisor\n",
    "        break\n",
    "if y==1:\n",
    "    print(\"It is a prime.\")\n",
    "\n"
   ]
  }
 ],
 "metadata": {
  "kernelspec": {
   "display_name": "Python 3",
   "language": "python",
   "name": "python3"
  },
  "language_info": {
   "codemirror_mode": {
    "name": "ipython",
    "version": 3
   },
   "file_extension": ".py",
   "mimetype": "text/x-python",
   "name": "python",
   "nbconvert_exporter": "python",
   "pygments_lexer": "ipython3",
   "version": "3.8.8"
  }
 },
 "nbformat": 4,
 "nbformat_minor": 5
}
