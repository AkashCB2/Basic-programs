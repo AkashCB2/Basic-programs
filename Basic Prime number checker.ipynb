{
 "cells": [
  {
   "cell_type": "code",
   "execution_count": 2,
   "id": "f27c5610",
   "metadata": {},
   "outputs": [
    {
     "name": "stdout",
     "output_type": "stream",
     "text": [
      "Plz input a natural number 2\n",
      "It is a prime number.\n"
     ]
    }
   ],
   "source": [
    "#We will write a program to check if a number is prime or not\n",
    "##NICE\n",
    "x=int(input(\"Plz input a natural number \",))\n",
    "y=1  #This will be our counter\n",
    "for i in range(2,x,1):\n",
    "    y*=(x%i) #Update##Here we use the fact that y will be zero iff x is not prime\n",
    "\n",
    "if y==0:\n",
    "    print(\"Not a prime number.\")\n",
    "else:\n",
    "    print(\"It is a prime number.\")"
   ]
  },
  {
   "cell_type": "code",
   "execution_count": null,
   "id": "f8039ba6",
   "metadata": {},
   "outputs": [],
   "source": []
  }
 ],
 "metadata": {
  "kernelspec": {
   "display_name": "Python 3",
   "language": "python",
   "name": "python3"
  },
  "language_info": {
   "codemirror_mode": {
    "name": "ipython",
    "version": 3
   },
   "file_extension": ".py",
   "mimetype": "text/x-python",
   "name": "python",
   "nbconvert_exporter": "python",
   "pygments_lexer": "ipython3",
   "version": "3.8.8"
  }
 },
 "nbformat": 4,
 "nbformat_minor": 5
}
