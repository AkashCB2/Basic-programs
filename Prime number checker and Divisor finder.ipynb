{
 "cells": [
  {
   "cell_type": "code",
   "execution_count": 16,
   "id": "b00ccf35",
   "metadata": {},
   "outputs": [
    {
     "name": "stdout",
     "output_type": "stream",
     "text": [
      "Plz input a natural number 12356\n",
      "Not a prime number. The list of divisors is as follows :\n",
      "[2, 4, 3089, 6178]\n"
     ]
    }
   ],
   "source": [
    "#We will write a program to check if a number is prime or not\n",
    "\n",
    "x=int(input(\"Plz input a natural number \",))\n",
    "y=1  #This will be our counter\n",
    "z=[]\n",
    "\n",
    "if x==1:\n",
    "    print(\"By definition of prime numbers, 1 is NOT a prime number.\")\n",
    "    \n",
    "else:\n",
    "    for i in range(2,x,1):\n",
    "        y*=(x%i) ##Here we use the fact that y will be zero iff x is not prime\n",
    "        if x%i==0:\n",
    "            z.append(i) #This is to obtain a list of divisors\n",
    "    \n",
    "    if y==0:\n",
    "        print(\"Not a prime number. The list of divisors is as follows :\")\n",
    "        print(z)\n",
    "      \n",
    "    else:\n",
    "        print(\"It is a prime number.\")\n",
    "       "
   ]
  },
  {
   "cell_type": "code",
   "execution_count": null,
   "id": "4fd8ecb4",
   "metadata": {},
   "outputs": [],
   "source": []
  }
 ],
 "metadata": {
  "kernelspec": {
   "display_name": "Python 3",
   "language": "python",
   "name": "python3"
  },
  "language_info": {
   "codemirror_mode": {
    "name": "ipython",
    "version": 3
   },
   "file_extension": ".py",
   "mimetype": "text/x-python",
   "name": "python",
   "nbconvert_exporter": "python",
   "pygments_lexer": "ipython3",
   "version": "3.8.8"
  }
 },
 "nbformat": 4,
 "nbformat_minor": 5
}
